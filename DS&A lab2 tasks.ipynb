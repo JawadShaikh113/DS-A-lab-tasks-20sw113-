{
  "nbformat": 4,
  "nbformat_minor": 0,
  "metadata": {
    "colab": {
      "provenance": []
    },
    "kernelspec": {
      "name": "python3",
      "display_name": "Python 3"
    },
    "language_info": {
      "name": "python"
    }
  },
  "cells": [
    {
      "cell_type": "code",
      "execution_count": 2,
      "metadata": {
        "colab": {
          "base_uri": "https://localhost:8080/"
        },
        "id": "D4VYAI3-GqdP",
        "outputId": "2dd962f6-eac5-4b54-a4fb-5467e7447266"
      },
      "outputs": [
        {
          "output_type": "stream",
          "name": "stdout",
          "text": [
            "enter your points to know your prize57\n",
            "no prize\n"
          ]
        }
      ],
      "source": [
        "#task1\n",
        "points= int(input(\"enter your points to know your prize: \"))\n",
        "\n",
        "if (points >=0 and points <=50):\n",
        "  print(\"wooden rabbit\")\n",
        "\n",
        "elif (points >=51 and points <=150):\n",
        "  print(\"no prize\")\n",
        "\n",
        "elif (points >=151 and points <=180):\n",
        "  print(\"wafer-thin mint\")\n",
        "\n",
        "elif (points >=181 and points <=200):\n",
        "  print(\"penguin\")\n",
        "\n",
        "else: print(\"wront input\")"
      ]
    },
    {
      "cell_type": "code",
      "source": [
        "#task2\n",
        "answer = 42\n",
        "\n",
        "# Get the user's guess\n",
        "guess = int(input(\"Enter your guess: \"))\n",
        "\n",
        "\n",
        "if guess < answer:\n",
        "    print(\"Your guess is too low!\")\n",
        "elif guess > answer:\n",
        "    print(\"Your guess is too high!\")\n",
        "else:\n",
        "    print(\"Congratulations! Your guess is correct!\")"
      ],
      "metadata": {
        "colab": {
          "base_uri": "https://localhost:8080/"
        },
        "id": "FzZDrSGHPpKZ",
        "outputId": "f3924c49-31dd-423d-f863-cf1a67609c12"
      },
      "execution_count": 3,
      "outputs": [
        {
          "output_type": "stream",
          "name": "stdout",
          "text": [
            "Enter your guess: 56\n",
            "Your guess is too high!\n"
          ]
        }
      ]
    },
    {
      "cell_type": "code",
      "source": [
        "#task3\n",
        "def calculate_tax(purchase_amount, state):\n",
        "    # Dictionary to store the tax rates for different states\n",
        "    tax_rates = {\n",
        "        \"CA\": 0.075,\n",
        "        \"MN\": 0.095,\n",
        "        \"NY\": 0.089\n",
        "    }\n",
        "\n",
        "    # Check if the state is in the tax_rates dictionary\n",
        "    if state in tax_rates:\n",
        "        # Calculate the tax amount\n",
        "        tax_amount = purchase_amount * tax_rates[state]\n",
        "        total_amount = purchase_amount + tax_amount\n",
        "\n",
        "        return total_amount, tax_amount\n",
        "    else:\n",
        "        # If the state is not found in the tax_rates dictionary, assume no tax\n",
        "        return purchase_amount, 0\n",
        "\n",
        "# Example usage:\n",
        "purchase_amount = float(input(\"Enter the purchase amount: \"))\n",
        "state = input(\"Enter the state (CA, MN, or NY): \")\n",
        "\n",
        "total_amount, tax_amount = calculate_tax(purchase_amount, state)\n",
        "print(f\"Total amount with tax: ${total_amount:.2f}\")\n",
        "print(f\"Tax amount: ${tax_amount:.2f}\")"
      ],
      "metadata": {
        "colab": {
          "base_uri": "https://localhost:8080/"
        },
        "id": "SP1FblP8P9ma",
        "outputId": "dc3ac138-9bf8-4261-955f-43e044c19911"
      },
      "execution_count": 4,
      "outputs": [
        {
          "output_type": "stream",
          "name": "stdout",
          "text": [
            "Enter the purchase amount: 67\n",
            "Enter the state (CA, MN, or NY): NY\n",
            "Total amount with tax: $72.96\n",
            "Tax amount: $5.96\n"
          ]
        }
      ]
    },
    {
      "cell_type": "code",
      "source": [
        "#task4\n",
        "sentence = [\"the\", \"quick\", \"brown\", \"fox\", \"jumped\", \"over\", \"the\",\n",
        "\"lazy\", \"dog\"]\n",
        "\n",
        "for word in sentence:\n",
        "    print(word)"
      ],
      "metadata": {
        "colab": {
          "base_uri": "https://localhost:8080/"
        },
        "id": "dSz7Fej5QUkd",
        "outputId": "4c6ea5ff-e5c6-4a1a-bb2b-ca306b55feb4"
      },
      "execution_count": 5,
      "outputs": [
        {
          "output_type": "stream",
          "name": "stdout",
          "text": [
            "the\n",
            "quick\n",
            "brown\n",
            "fox\n",
            "jumped\n",
            "over\n",
            "the\n",
            "lazy\n",
            "dog\n"
          ]
        }
      ]
    },
    {
      "cell_type": "code",
      "source": [
        "#task5\n",
        "for number in range(5, 35, 5):\n",
        "  print(number)"
      ],
      "metadata": {
        "colab": {
          "base_uri": "https://localhost:8080/"
        },
        "id": "-bUiFm4EQeSf",
        "outputId": "57c3534c-a3ed-43f8-b851-df94418cd62b"
      },
      "execution_count": 6,
      "outputs": [
        {
          "output_type": "stream",
          "name": "stdout",
          "text": [
            "5\n",
            "10\n",
            "15\n",
            "20\n",
            "25\n",
            "30\n"
          ]
        }
      ]
    },
    {
      "cell_type": "code",
      "source": [
        "#task6\n",
        "names = [\"Rick Sanchez\", \"Morty Smith\", \"Summer Smith\", \"Jerry Smith\", \"Beth Smith\"]\n",
        "\n",
        "# Using list comprehension to extract and convert first names to lowercase\n",
        "first_names = [name.split()[0].lower() for name in names]\n",
        "\n",
        "print(first_names)"
      ],
      "metadata": {
        "colab": {
          "base_uri": "https://localhost:8080/"
        },
        "id": "loRbzNcCQlxJ",
        "outputId": "16a7b5f3-91ff-40d7-8468-b5334774038a"
      },
      "execution_count": 7,
      "outputs": [
        {
          "output_type": "stream",
          "name": "stdout",
          "text": [
            "['rick', 'morty', 'summer', 'jerry', 'beth']\n"
          ]
        }
      ]
    },
    {
      "cell_type": "code",
      "source": [
        "#task7\n",
        "multiples_3 = [3 * i for i in range(1, 21)]\n",
        "\n",
        "print(multiples_3)"
      ],
      "metadata": {
        "colab": {
          "base_uri": "https://localhost:8080/"
        },
        "id": "8erbYikGQuep",
        "outputId": "ffd8966f-af74-457e-8251-fcfec89d9b8c"
      },
      "execution_count": 8,
      "outputs": [
        {
          "output_type": "stream",
          "name": "stdout",
          "text": [
            "[3, 6, 9, 12, 15, 18, 21, 24, 27, 30, 33, 36, 39, 42, 45, 48, 51, 54, 57, 60]\n"
          ]
        }
      ]
    },
    {
      "cell_type": "code",
      "source": [
        "#task8\n",
        "\n",
        "scores = {\n",
        "    \"Rick Sanchez\": 70,\n",
        "    \"Morty Smith\": 35,\n",
        "    \"Summer Smith\": 82,\n",
        "    \"Jerry Smith\": 23,\n",
        "    \"Beth Smith\": 98\n",
        "}\n",
        "\n",
        "passed = [name for name, score in scores.items() if score >= 65]\n",
        "\n",
        "print(passed)\n"
      ],
      "metadata": {
        "colab": {
          "base_uri": "https://localhost:8080/"
        },
        "id": "NLLmdqNNQ2UM",
        "outputId": "3c32c6e7-bad3-4032-8ddd-77429ed0584f"
      },
      "execution_count": 10,
      "outputs": [
        {
          "output_type": "stream",
          "name": "stdout",
          "text": [
            "['Rick Sanchez', 'Summer Smith', 'Beth Smith']\n"
          ]
        }
      ]
    },
    {
      "cell_type": "code",
      "source": [
        "#task9\n",
        "\n",
        "cast_names = [\"Barney\", \"Robin\", \"Ted\", \"Lily\", \"Marshall\"]\n",
        "cast_heights = [72, 68, 72, 66, 76]\n",
        "\n",
        "cast = dict(zip(cast_names, cast_heights))\n",
        "\n",
        "print(cast)"
      ],
      "metadata": {
        "colab": {
          "base_uri": "https://localhost:8080/"
        },
        "id": "qLLwavATQ2g7",
        "outputId": "8f434837-8c60-4f24-e2be-f2b6c44d79f8"
      },
      "execution_count": 11,
      "outputs": [
        {
          "output_type": "stream",
          "name": "stdout",
          "text": [
            "{'Barney': 72, 'Robin': 68, 'Ted': 72, 'Lily': 66, 'Marshall': 76}\n"
          ]
        }
      ]
    },
    {
      "cell_type": "code",
      "source": [
        "#task10\n",
        "cast = [\"Barney Stinson\", \"Robin Scherbatsky\", \"Ted Mosby\", \"Lily Aldrin\", \"Marshall Eriksen\"]\n",
        "heights = [72, 68, 72, 66, 76]\n",
        "\n",
        "for i, name in enumerate(cast):\n",
        "    cast[i] = f\"{name} {heights[i]}\"\n",
        "\n",
        "print(cast)"
      ],
      "metadata": {
        "colab": {
          "base_uri": "https://localhost:8080/"
        },
        "id": "U0HN_5p9Q2u_",
        "outputId": "f7237701-8569-4d72-bf7c-679adba0b859"
      },
      "execution_count": 9,
      "outputs": [
        {
          "output_type": "stream",
          "name": "stdout",
          "text": [
            "['Barney Stinson 72', 'Robin Scherbatsky 68', 'Ted Mosby 72', 'Lily Aldrin 66', 'Marshall Eriksen 76']\n"
          ]
        }
      ]
    }
  ]
}